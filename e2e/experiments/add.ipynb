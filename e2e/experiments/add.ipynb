{
 "cells": [
  {
   "cell_type": "code",
   "execution_count": 9,
   "metadata": {},
   "outputs": [],
   "source": [
    "import yaml\n",
    "import os\n",
    "from pathlib import Path\n",
    "import pandas as pd"
   ]
  },
  {
   "cell_type": "markdown",
   "metadata": {},
   "source": [
    "## Setup"
   ]
  },
  {
   "cell_type": "code",
   "execution_count": 3,
   "metadata": {},
   "outputs": [],
   "source": [
    "pdk = 'sky130'\n",
    "design = 'add'\n",
    "design_ext = '8'\n",
    "inst = 'adder0'\n",
    "obj_dir = f'build-{pdk}-cm/add8'\n",
    "e2e_dpath = Path(os.getcwd()).parent\n",
    "obj_dpath = e2e_dpath/obj_dir\n",
    "tests_dpath = e2e_dpath/'experiments/tests'"
   ]
  },
  {
   "cell_type": "markdown",
   "metadata": {},
   "source": [
    "## Generate experiment files"
   ]
  },
  {
   "cell_type": "markdown",
   "metadata": {},
   "source": [
    "What do we want to test?\n",
    "\n",
    "Inputs:\n",
    "* 0 -> 0\n",
    "* 0 -> 11...11\n",
    "* different activity factors of adds\n",
    "\n",
    "Designs:\n",
    "* minimum critical path - can we force the synthesis tool to use faster gates\n",
    "\n",
    "Flow:\n",
    "* sim-rtl   > \n",
    "* synthesis > sim-gl-syn  > power-syn"
   ]
  },
  {
   "cell_type": "code",
   "execution_count": 4,
   "metadata": {},
   "outputs": [],
   "source": [
    "from pathlib import Path\n",
    "testnames = ['zero','max_input_switching','max_output_switching']\n",
    "my_tests = [f\"{design}{design_ext}-{t}\" for t in testnames]\n",
    "tests_dict = {t: {} for t in my_tests}\n",
    "# create dirs\n",
    "for t in tests_dict:\n",
    "    tests_dict[t]['dpath'] = tests_dpath/t\n",
    "    tests_dict[t]['dpath'].mkdir(exist_ok=True)\n",
    "\n",
    "# set operands\n",
    "tests_dict['add8-zero']['inputs'] = [(0,0) for _ in range(50)]\n",
    "tests_dict['add8-max_input_switching']['inputs'] = [((0,0) if i%2 else (255,255)) for i in range(50)]\n",
    "tests_dict['add8-max_output_switching']['inputs'] = [((0,0) if i%2 else (127,128)) for i in range(50)]\n",
    "\n",
    "# write out input.txt\n",
    "for t in tests_dict:\n",
    "    with (tests_dict[t]['dpath']/'input.txt').open('w') as f:\n",
    "        for i in tests_dict[t]['inputs']:\n",
    "            f.write(\" \".join(['{0:b}'.format(ii) for ii in i]) + '\\n')\n"
   ]
  },
  {
   "cell_type": "code",
   "execution_count": 5,
   "metadata": {},
   "outputs": [],
   "source": [
    "def write_cfg(test_dict):\n",
    "    cfg = f\"\"\"\\\n",
    "design.defines: &DEFINES\n",
    "  - CLOCK_PERIOD=10\n",
    "  - WIDTH=8\n",
    "  - IN0_R=0\n",
    "  - IN1_R=0\n",
    "  - TESTROOT={test_dict['dpath']}\n",
    "\n",
    "sim.inputs:\n",
    "  defines: *DEFINES\n",
    "  defines_meta: 'append'\n",
    "\n",
    "synthesis.inputs:\n",
    "  defines: *DEFINES\n",
    "\n",
    "power.inputs:\n",
    "  defines: *DEFINES\n",
    "\n",
    "vlsi.core.power_tool: hammer.power.joules\n",
    "power.inputs:\n",
    "  level: rtl\n",
    "  input_files: [src/add.v]\n",
    "  report_configs:\n",
    "    - waveform_path: {test_dict['dpath']}/output.fsdb\n",
    "      report_stem: {test_dict['dpath']}/power\n",
    "      toggle_signal: clock\n",
    "      num_toggles: 1\n",
    "      levels: all\n",
    "      output_formats:\n",
    "      - report\n",
    "      - plot_profile\n",
    "\"\"\"\n",
    "    with (test_dict['dpath']/'config.yml').open('w') as f:\n",
    "        f.write(cfg)\n",
    "\n",
    "for t in tests_dict:\n",
    "    write_cfg(tests_dict[t])"
   ]
  },
  {
   "cell_type": "markdown",
   "metadata": {},
   "source": [
    "## Run experiments"
   ]
  },
  {
   "cell_type": "code",
   "execution_count": 6,
   "metadata": {},
   "outputs": [
    {
     "name": "stdout",
     "output_type": "stream",
     "text": [
      "make design=add OBJ_DIR=build-sky130-cm/add8 build -B\n",
      "\n",
      "make design=add OBJ_DIR=build-sky130-cm/add8 extra=/bwrcq/scratch/nayiri/hammer-sep24/e2e/experiments/tests/add8-zero/config.yml redo-sim-rtl\n",
      "make design=add OBJ_DIR=build-sky130-cm/add8 extra=/bwrcq/scratch/nayiri/hammer-sep24/e2e/experiments/tests/add8-max_input_switching/config.yml redo-sim-rtl\n",
      "make design=add OBJ_DIR=build-sky130-cm/add8 extra=/bwrcq/scratch/nayiri/hammer-sep24/e2e/experiments/tests/add8-max_output_switching/config.yml redo-sim-rtl\n",
      "\n",
      "make design=add OBJ_DIR=build-sky130-cm/add8 extra=/bwrcq/scratch/nayiri/hammer-sep24/e2e/experiments/tests/add8-zero/config.yml redo-power-rtl args='--only_step report_power'\n",
      "make design=add OBJ_DIR=build-sky130-cm/add8 extra=/bwrcq/scratch/nayiri/hammer-sep24/e2e/experiments/tests/add8-max_input_switching/config.yml redo-power-rtl args='--only_step report_power'\n",
      "make design=add OBJ_DIR=build-sky130-cm/add8 extra=/bwrcq/scratch/nayiri/hammer-sep24/e2e/experiments/tests/add8-max_output_switching/config.yml redo-power-rtl args='--only_step report_power'\n",
      "\n"
     ]
    }
   ],
   "source": [
    "# generate custom make str for each test\n",
    "for t in tests_dict:\n",
    "    cfg = str(tests_dict[t]['dpath']/'config.yml')\n",
    "    tests_dict[t]['make'] = f\"make design={design} OBJ_DIR={obj_dir} extra={cfg}\"\n",
    "# build\n",
    "print(f\"make design={design} OBJ_DIR={obj_dir} build -B\\n\")\n",
    "\n",
    "# sim-rtl\n",
    "for t in tests_dict:\n",
    "    print(f\"{tests_dict[t]['make']} redo-sim-rtl\")\n",
    "print()\n",
    "\n",
    "# power-rtl\n",
    "for t in tests_dict:\n",
    "    make_target = \"redo-power-rtl args='--only_step report_power'\" \\\n",
    "            if (obj_dpath/'power-rtl-rundir/pre_report_power').exists() else 'power-rtl'\n",
    "    print(f\"{tests_dict[t]['make']} {make_target}\")\n",
    "print()"
   ]
  },
  {
   "cell_type": "markdown",
   "metadata": {},
   "source": [
    "## Parse results"
   ]
  },
  {
   "cell_type": "code",
   "execution_count": 12,
   "metadata": {},
   "outputs": [
    {
     "data": {
      "text/html": [
       "<div>\n",
       "<style scoped>\n",
       "    .dataframe tbody tr th:only-of-type {\n",
       "        vertical-align: middle;\n",
       "    }\n",
       "\n",
       "    .dataframe tbody tr th {\n",
       "        vertical-align: top;\n",
       "    }\n",
       "\n",
       "    .dataframe thead th {\n",
       "        text-align: right;\n",
       "    }\n",
       "</style>\n",
       "<table border=\"1\" class=\"dataframe\">\n",
       "  <thead>\n",
       "    <tr style=\"text-align: right;\">\n",
       "      <th></th>\n",
       "      <th>Leakage</th>\n",
       "      <th>Internal</th>\n",
       "      <th>Switching</th>\n",
       "      <th>Total</th>\n",
       "    </tr>\n",
       "  </thead>\n",
       "  <tbody>\n",
       "    <tr>\n",
       "      <th>add8-zero</th>\n",
       "      <td>0.0</td>\n",
       "      <td>0.00000</td>\n",
       "      <td>0.00000</td>\n",
       "      <td>0.00000</td>\n",
       "    </tr>\n",
       "    <tr>\n",
       "      <th>add8-max_input_switching</th>\n",
       "      <td>0.0</td>\n",
       "      <td>0.06106</td>\n",
       "      <td>1.13899</td>\n",
       "      <td>1.20005</td>\n",
       "    </tr>\n",
       "    <tr>\n",
       "      <th>add8-max_output_switching</th>\n",
       "      <td>0.0</td>\n",
       "      <td>0.05402</td>\n",
       "      <td>1.28806</td>\n",
       "      <td>1.34208</td>\n",
       "    </tr>\n",
       "  </tbody>\n",
       "</table>\n",
       "</div>"
      ],
      "text/plain": [
       "                           Leakage  Internal  Switching    Total\n",
       "add8-zero                      0.0   0.00000    0.00000  0.00000\n",
       "add8-max_input_switching       0.0   0.06106    1.13899  1.20005\n",
       "add8-max_output_switching      0.0   0.05402    1.28806  1.34208"
      ]
     },
     "execution_count": 12,
     "metadata": {},
     "output_type": "execute_result"
    }
   ],
   "source": [
    "\n",
    "def parse_hier_power_rpt(fpath,inst) -> list:\n",
    "    with fpath.open('r') as f: lines = f.readlines()\n",
    "    for l in lines:\n",
    "        words = l.split()\n",
    "        if inst == words[-1]:\n",
    "            return [round(float(p),5) for p in words[2:6]]\n",
    "\n",
    "power = []\n",
    "for t in tests_dict:\n",
    "    fpath = tests_dict[t]['dpath']/'power.hier.power.rpt'\n",
    "    power.append(parse_hier_power_rpt(fpath,f\"/{design}/{inst}\"))\n",
    "\n",
    "power = pd.DataFrame(power,\n",
    "                     columns=['Leakage','Internal','Switching','Total'],\n",
    "                     index=tests_dict.keys())\n",
    "power"
   ]
  }
 ],
 "metadata": {
  "kernelspec": {
   "display_name": "ml",
   "language": "python",
   "name": "python3"
  },
  "language_info": {
   "codemirror_mode": {
    "name": "ipython",
    "version": 3
   },
   "file_extension": ".py",
   "mimetype": "text/x-python",
   "name": "python",
   "nbconvert_exporter": "python",
   "pygments_lexer": "ipython3",
   "version": "3.10.9"
  }
 },
 "nbformat": 4,
 "nbformat_minor": 2
}
